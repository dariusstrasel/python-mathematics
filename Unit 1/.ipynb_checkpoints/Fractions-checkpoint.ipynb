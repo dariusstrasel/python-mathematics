{
 "cells": [
  {
   "cell_type": "markdown",
   "metadata": {},
   "source": [
    "# Fractions\n"
   ]
  },
  {
   "cell_type": "code",
   "execution_count": null,
   "metadata": {},
   "outputs": [],
   "source": []
  },
  {
   "cell_type": "code",
   "execution_count": 1,
   "metadata": {},
   "outputs": [],
   "source": [
    "import typing\n",
    "from typing import Tuple, List"
   ]
  },
  {
   "cell_type": "code",
   "execution_count": 2,
   "metadata": {},
   "outputs": [],
   "source": [
    "def get_least_common_multiple(denominatorOne: int, denominatorTwo: int) -> int:\n",
    "    \n",
    "    if denominatorOne == 1 or denominatorTwo == 1:\n",
    "        return max(denominatorOne, denominatorTwo)\n",
    "    if denominatorOne == denominatorTwo:\n",
    "        return denominatorOne\n",
    "    \n",
    "    multiplesOfDenominatorOne: set = set()\n",
    "    multiplesOfDenominatorTwo: set = set()\n",
    "    \n",
    "    dOne: int = denominatorOne\n",
    "    dTwo: int = denominatorTwo\n",
    "    \n",
    "    while dOne != dTwo:\n",
    "        if dOne == dTwo:\n",
    "            return dOne\n",
    "        common_multiples: set = multiplesOfDenominatorOne.intersection(multiplesOfDenominatorTwo)\n",
    "        if len(common_multiples) < 1:\n",
    "            dOne = dOne + denominatorOne\n",
    "            dTwo = dTwo + denominatorTwo\n",
    "        \n",
    "            multiplesOfDenominatorOne.add(dOne)\n",
    "            multiplesOfDenominatorTwo.add(dTwo)\n",
    "        else:\n",
    "            return min(common_multiples)\n",
    "    return dOne"
   ]
  },
  {
   "cell_type": "code",
   "execution_count": 13,
   "metadata": {},
   "outputs": [],
   "source": [
    "def get_factors(number: int) -> List[int]:\n",
    "    factors = []\n",
    "    for integer in range(1, number + 1):\n",
    "        if number % integer == 0:\n",
    "            factors.append(integer)\n",
    "    return factors"
   ]
  },
  {
   "cell_type": "code",
   "execution_count": 14,
   "metadata": {},
   "outputs": [
    {
     "name": "stdout",
     "output_type": "stream",
     "text": [
      "[1, 2, 5, 10]\n"
     ]
    }
   ],
   "source": [
    "print(get_factors(10))"
   ]
  },
  {
   "cell_type": "code",
   "execution_count": 15,
   "metadata": {},
   "outputs": [],
   "source": [
    "def get_prime_factorization(number: int) -> Tuple[int]:\n",
    "    factors = get_factors(number)\n",
    "    prime_factors = []\n",
    "    for factor in factors:\n",
    "        if is_prime(factor):\n",
    "            prime_factors.append(factor)\n",
    "    return prime_factors"
   ]
  },
  {
   "cell_type": "code",
   "execution_count": 18,
   "metadata": {},
   "outputs": [
    {
     "name": "stdout",
     "output_type": "stream",
     "text": [
      "[1, 2, 5]\n"
     ]
    }
   ],
   "source": [
    "print(get_prime_factorization(10))"
   ]
  },
  {
   "cell_type": "code",
   "execution_count": 16,
   "metadata": {},
   "outputs": [],
   "source": [
    "def is_prime(number: int) -> bool:\n",
    "    divisibles: List[int] = [1]\n",
    "    for integer in range(1, number):\n",
    "        if number % integer == 0:\n",
    "            divisibles.append(number)\n",
    "    return len(divisibles) < 3"
   ]
  },
  {
   "cell_type": "code",
   "execution_count": 17,
   "metadata": {},
   "outputs": [
    {
     "name": "stdout",
     "output_type": "stream",
     "text": [
      "False\n"
     ]
    }
   ],
   "source": [
    "print(is_prime(6))"
   ]
  },
  {
   "cell_type": "code",
   "execution_count": 5,
   "metadata": {},
   "outputs": [],
   "source": [
    "def transform_fraction(fraction: Tuple[int, int], denominator: int):\n",
    "    return (fraction[0] * denominator, fraction[1] * denominator)"
   ]
  },
  {
   "cell_type": "code",
   "execution_count": 6,
   "metadata": {
    "scrolled": true
   },
   "outputs": [],
   "source": [
    "def equalize_fractions(fractionOne: Tuple[int, int], fractionTwo: Tuple[int, int]):\n",
    "    least_common_multiple: int = get_least_common_multiple(fractionOne[1], fractionTwo[1])\n",
    "    \n",
    "    return ((transform_fraction(fractionOne, least_common_multiple), transform_fraction(fractionTwo, least_common_multiple)))\n"
   ]
  },
  {
   "cell_type": "code",
   "execution_count": null,
   "metadata": {},
   "outputs": [],
   "source": []
  },
  {
   "cell_type": "code",
   "execution_count": null,
   "metadata": {},
   "outputs": [],
   "source": []
  },
  {
   "cell_type": "code",
   "execution_count": 7,
   "metadata": {},
   "outputs": [],
   "source": [
    "print(equalize_fractions((1,2), (2,3)))"
   ]
  },
  {
   "cell_type": "code",
   "execution_count": null,
   "metadata": {},
   "outputs": [],
   "source": []
  },
  {
   "cell_type": "code",
   "execution_count": null,
   "metadata": {},
   "outputs": [],
   "source": []
  },
  {
   "cell_type": "code",
   "execution_count": null,
   "metadata": {},
   "outputs": [],
   "source": []
  },
  {
   "cell_type": "code",
   "execution_count": null,
   "metadata": {},
   "outputs": [],
   "source": []
  },
  {
   "cell_type": "code",
   "execution_count": null,
   "metadata": {},
   "outputs": [],
   "source": []
  },
  {
   "cell_type": "code",
   "execution_count": null,
   "metadata": {},
   "outputs": [],
   "source": []
  }
 ],
 "metadata": {
  "kernelspec": {
   "display_name": "Python 3",
   "language": "python",
   "name": "python3"
  },
  "language_info": {
   "codemirror_mode": {
    "name": "ipython",
    "version": 3
   },
   "file_extension": ".py",
   "mimetype": "text/x-python",
   "name": "python",
   "nbconvert_exporter": "python",
   "pygments_lexer": "ipython3",
   "version": "3.6.4"
  }
 },
 "nbformat": 4,
 "nbformat_minor": 2
}
