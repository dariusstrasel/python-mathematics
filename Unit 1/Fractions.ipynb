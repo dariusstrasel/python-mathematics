{
 "cells": [
  {
   "cell_type": "markdown",
   "metadata": {},
   "source": [
    "# Fractions\n"
   ]
  },
  {
   "cell_type": "code",
   "execution_count": 9,
   "metadata": {},
   "outputs": [],
   "source": [
    "import typing"
   ]
  },
  {
   "cell_type": "code",
   "execution_count": 15,
   "metadata": {},
   "outputs": [],
   "source": [
    "def get_least_common_multiple(denominatorOne: int, denominatorTwo: int) -> int:\n",
    "    \n",
    "    if denominatorOne == 1 or denominatorTwo == 1:\n",
    "        return max(denominatorOne, denominatorTwo)\n",
    "    if denominatorOne == denominatorTwo:\n",
    "        return denominatorOne\n",
    "    \n",
    "    multiplesOfDenominatorOne: set = set()\n",
    "    multiplesOfDenominatorTwo: set = set()\n",
    "    \n",
    "    dOne: int = denominatorOne\n",
    "    dTwo: int = denominatorTwo\n",
    "    \n",
    "    while dOne != dTwo:\n",
    "        if dOne == dTwo:\n",
    "            return dOne\n",
    "        common_multiples: set = multiplesOfDenominatorOne.intersection(multiplesOfDenominatorTwo)\n",
    "        if len(common_multiples) < 1:\n",
    "            dOne = dOne + denominatorOne\n",
    "            dTwo = dTwo + denominatorTwo\n",
    "        \n",
    "            multiplesOfDenominatorOne.add(dOne)\n",
    "            multiplesOfDenominatorTwo.add(dTwo)\n",
    "        else:\n",
    "            return min(common_multiples)\n",
    "    return dOne"
   ]
  },
  {
   "cell_type": "code",
   "execution_count": 17,
   "metadata": {
    "scrolled": true
   },
   "outputs": [
    {
     "name": "stdout",
     "output_type": "stream",
     "text": [
      "39\n"
     ]
    }
   ],
   "source": [
    "print(get_least_common_multiple(3, 13))"
   ]
  },
  {
   "cell_type": "code",
   "execution_count": null,
   "metadata": {},
   "outputs": [],
   "source": []
  },
  {
   "cell_type": "code",
   "execution_count": null,
   "metadata": {},
   "outputs": [],
   "source": []
  },
  {
   "cell_type": "code",
   "execution_count": null,
   "metadata": {},
   "outputs": [],
   "source": []
  },
  {
   "cell_type": "code",
   "execution_count": null,
   "metadata": {},
   "outputs": [],
   "source": []
  },
  {
   "cell_type": "code",
   "execution_count": null,
   "metadata": {},
   "outputs": [],
   "source": []
  },
  {
   "cell_type": "code",
   "execution_count": null,
   "metadata": {},
   "outputs": [],
   "source": []
  }
 ],
 "metadata": {
  "kernelspec": {
   "display_name": "Python 3",
   "language": "python",
   "name": "python3"
  }
 },
 "nbformat": 4,
 "nbformat_minor": 2
}
